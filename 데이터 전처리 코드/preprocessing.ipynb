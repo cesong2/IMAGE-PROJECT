{
 "cells": [
  {
   "cell_type": "code",
   "execution_count": 2,
   "metadata": {},
   "outputs": [],
   "source": [
    "# 필요한 라이브러리 전부 임포트\n",
    "import numpy as np # linear algebra\n",
    "import pandas as pd # data processing, CSV file I/O (e.g. pd.read_csv)\n",
    "import matplotlib.pyplot as plt\n",
    "import seaborn as sns\n",
    "\n",
    "import os\n",
    "from glob import glob\n",
    "%matplotlib inline\n",
    "\n",
    "from tqdm import tqdm\n",
    "from keras.preprocessing.image import ImageDataGenerator\n",
    "from keras.applications.densenet import DenseNet121\n",
    "# from tensorflow.keras.applications import DenseNet121\n",
    "from keras.layers import Dense, GlobalAveragePooling2D, Conv2D, MaxPooling2D, Flatten, Dropout\n",
    "from keras.models import Model, load_model, Sequential\n",
    "from keras.preprocessing.image import * \n",
    "from sklearn.model_selection import train_test_split\n",
    "import matplotlib.pyplot as plt \n",
    "import random\n",
    "import tensorflow as tf\n",
    "from tensorflow import optimizers\n",
    "from tensorflow import keras\n",
    "from tensorflow.keras.utils import to_categorical\n",
    "import tensorflow.keras.layers as L\n",
    "import shutil\n",
    "\n",
    "from keras import regularizers\n",
    "from keras.callbacks import ReduceLROnPlateau, EarlyStopping\n",
    "# from tensorflow.keras.callbacks import EarlyStopping"
   ]
  },
  {
   "cell_type": "code",
   "execution_count": 3,
   "metadata": {},
   "outputs": [],
   "source": [
    "train_df = pd.read_excel('d:/Data_Entry_2017_del.xlsx')"
   ]
  },
  {
   "cell_type": "code",
   "execution_count": 4,
   "metadata": {},
   "outputs": [],
   "source": [
    "train_df = train_df.replace('NO',0).replace('YES',1)"
   ]
  },
  {
   "cell_type": "code",
   "execution_count": 5,
   "metadata": {},
   "outputs": [],
   "source": [
    "# 각 Label별로 이미지를 분류\n",
    "Normal = list(train_df[train_df['Finding Labels']=='No Finding']['Image Index'])\n",
    "Atelectasis = list(train_df[train_df['Finding Labels'] == 'Atelectasis']['Image Index'])\n",
    "Cardiomegaly = list(train_df[train_df['Finding Labels'] == 'Cardiomegaly']['Image Index'])\n",
    "Effusion = list(train_df[train_df['Finding Labels'] == 'Effusion']['Image Index'])\n",
    "Infiltration = list(train_df[train_df['Finding Labels'] == 'Infiltration']['Image Index'])\n",
    "Mass = list(train_df[train_df['Finding Labels'] == 'Mass']['Image Index'])\n",
    "Nodule = list(train_df[train_df['Finding Labels'] == 'Nodule']['Image Index'])\n",
    "Pneumonia = list(train_df[train_df['Finding Labels'] == 'Pneumonia']['Image Index'])\n",
    "Pneumothorax = list(train_df[train_df['Finding Labels'] == 'Pneumothorax']['Image Index'])\n",
    "Consolidation = list(train_df[train_df['Finding Labels'] == 'Consolidation']['Image Index'])\n",
    "Edema = list(train_df[train_df['Finding Labels'] == 'Edema']['Image Index'])\n",
    "Emphysema = list(train_df[train_df['Finding Labels'] == 'Emphysema']['Image Index'])\n",
    "Fibrosis = list(train_df[train_df['Finding Labels'] == 'Fibrosis']['Image Index'])\n",
    "Pleural_Thickening = list(train_df[train_df['Finding Labels'] == 'Pleural Thickening']['Image Index'])\n",
    "Hernia = list(train_df[train_df['Finding Labels'] == 'Hernia']['Image Index'])"
   ]
  },
  {
   "cell_type": "code",
   "execution_count": 6,
   "metadata": {},
   "outputs": [],
   "source": [
    "src1 = 'd:/BigData/NIH/images_001/images' # 이미지 불러올 파일 경로\n",
    "src2 = 'd:/BigData/NIH/images_002/images'\n",
    "src3 = 'd:/BigData/NIH/images_003/images'\n",
    "src4 = 'd:/BigData/NIH/images_004/images'\n",
    "src5 = 'd:/BigData/NIH/images_005/images'\n",
    "src6 = 'd:/BigData/NIH/images_006/images'\n",
    "src7 = 'd:/BigData/NIH/images_007/images'\n",
    "src8 = 'd:/BigData/NIH/images_008/images'\n",
    "src9 = 'd:/BigData/NIH/images_009/images'\n",
    "src10 = 'd:/BigData/NIH/images_010/images'\n",
    "src11 = 'd:/BigData/NIH/images_011/images'\n",
    "src12 = 'd:/BigData/NIH/images_012/images'\n",
    "\n",
    "dst1 = 'd:/data1/image/train/Normal'\n",
    "dst2 = 'd:/data1/image/train/Atelectasis'\n",
    "dst3 = 'd:/data1/image/train/Cardiomegaly'\n",
    "dst4 = 'd:/data1/image/train/Effusion'\n",
    "dst5 = 'd:/data1/image/train/Infiltration'\n",
    "dst6 = 'd:/data1/image/train/Mass'\n",
    "dst7 = 'd:/data1/image/train/Nodule'\n",
    "dst8 = 'd:/data1/image/train/Pneumonia'\n",
    "dst9 = 'd:/data1/image/train/Pneumothorax'\n",
    "dst10 = 'd:/data1/image/train/Consolidation'\n",
    "dst11 = 'd:/data1/image/train/Edema'\n",
    "dst12 = 'd:/data1/image/train/Emphysema'\n",
    "dst13 = 'd:/data1/image/train/Fibrosis'\n",
    "dst14 = 'd:/data1/image/train/Pleural_Thickening'\n",
    "dst15 = 'd:/data1/image/train/Hernia'"
   ]
  },
  {
   "cell_type": "code",
   "execution_count": 7,
   "metadata": {},
   "outputs": [],
   "source": [
    "# 분류된 이미지 리스트의 마지막에 경로를 추가\n",
    "Normal.append(dst1)\n",
    "Atelectasis.append(dst2)\n",
    "Cardiomegaly.append(dst3)\n",
    "Effusion.append(dst4)\n",
    "Infiltration.append(dst5)\n",
    "Mass.append(dst6)\n",
    "Nodule.append(dst7)\n",
    "Pneumonia.append(dst8)\n",
    "Pneumothorax.append(dst9)\n",
    "Consolidation.append(dst10)\n",
    "Edema.append(dst11)\n",
    "Emphysema.append(dst12)\n",
    "Fibrosis.append(dst13)\n",
    "Pleural_Thickening.append(dst14)\n",
    "Hernia.append(dst15)"
   ]
  },
  {
   "cell_type": "code",
   "execution_count": 8,
   "metadata": {},
   "outputs": [],
   "source": [
    "# 질병별로 분류된 각 이미지 파일이름 리스트를 하나의 리스트에 넣어준다. \n",
    "Diseases = [Normal, Atelectasis, Cardiomegaly, Effusion, Infiltration, Mass, Nodule, Pneumonia, Pneumothorax, Consolidation, Edema, Emphysema, Fibrosis, Pleural_Thickening, Hernia]\n",
    "# sorce폴더의 경로를 하나의 리스트로 모아준다.\n",
    "src_folders = [src1, src2, src3, src4, src5, src6, src7, src8, src9, src10, src11, src12 ]"
   ]
  },
  {
   "cell_type": "code",
   "execution_count": 9,
   "metadata": {},
   "outputs": [
    {
     "data": {
      "text/plain": [
       "['d:/BigData/NIH/images_001/images',\n",
       " 'd:/BigData/NIH/images_002/images',\n",
       " 'd:/BigData/NIH/images_003/images',\n",
       " 'd:/BigData/NIH/images_004/images',\n",
       " 'd:/BigData/NIH/images_005/images',\n",
       " 'd:/BigData/NIH/images_006/images',\n",
       " 'd:/BigData/NIH/images_007/images',\n",
       " 'd:/BigData/NIH/images_008/images',\n",
       " 'd:/BigData/NIH/images_009/images',\n",
       " 'd:/BigData/NIH/images_010/images',\n",
       " 'd:/BigData/NIH/images_011/images',\n",
       " 'd:/BigData/NIH/images_012/images']"
      ]
     },
     "execution_count": 9,
     "metadata": {},
     "output_type": "execute_result"
    }
   ],
   "source": [
    "src_folders"
   ]
  },
  {
   "cell_type": "code",
   "execution_count": null,
   "metadata": {},
   "outputs": [],
   "source": [
    "for src in src_folders:\n",
    "    # No Finding\n",
    "    for disease in Diseases:\n",
    "        for file_name in disease:\n",
    "            if file_name == disease[-1]:\n",
    "                break\n",
    "            img_src = src + '/' + file_name\n",
    "            img_dst = disease[-1] + '/' + file_name\n",
    "            # Create destination directory if it doesn't exist\n",
    "            os.makedirs(os.path.dirname(disease[-1] + '/'), exist_ok=True)\n",
    "            print(src)\n",
    "            print(img_src)\n",
    "            print(img_dst)\n",
    "            try:\n",
    "                shutil.copyfile(img_src, img_dst)\n",
    "                print(f\"File copied: {img_src} -> {img_dst}\")\n",
    "            except FileNotFoundError: \n",
    "                print('error')\n",
    "                continue"
   ]
  }
 ],
 "metadata": {
  "kernelspec": {
   "display_name": "base",
   "language": "python",
   "name": "python3"
  },
  "language_info": {
   "codemirror_mode": {
    "name": "ipython",
    "version": 3
   },
   "file_extension": ".py",
   "mimetype": "text/x-python",
   "name": "python",
   "nbconvert_exporter": "python",
   "pygments_lexer": "ipython3",
   "version": "3.9.13"
  },
  "orig_nbformat": 4
 },
 "nbformat": 4,
 "nbformat_minor": 2
}
